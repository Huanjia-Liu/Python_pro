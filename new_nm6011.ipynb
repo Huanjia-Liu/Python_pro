{
 "cells": [
  {
   "cell_type": "code",
   "execution_count": 2,
   "metadata": {},
   "outputs": [],
   "source": [
    "import numpy as np\n",
    "import matplotlib.pyplot as plt\n",
    "from scipy import spatial\n",
    "import math"
   ]
  },
  {
   "cell_type": "code",
   "execution_count": 7,
   "metadata": {},
   "outputs": [],
   "source": [
    "num_point = 20\n",
    "num_ant = 100\n",
    "e = 0.15\n",
    "alpha = 15\n",
    "beta = 20"
   ]
  },
  {
   "cell_type": "code",
   "execution_count": 30,
   "metadata": {},
   "outputs": [],
   "source": [
    "cor_point = np.random.rand(num_point,2)\n",
    "distance = spatial.distance.cdist(cor_point,cor_point,metric='euclidean')\n",
    "prob_city = 1/distance\n",
    "prob_city[prob_city==math.inf] =0\n",
    "prob_city = np.array(prob_city)"
   ]
  },
  {
   "cell_type": "code",
   "execution_count": 31,
   "metadata": {},
   "outputs": [],
   "source": [
    "def roulette(prob):\n",
    "    cum_prob = np.cumsum(prob)\n",
    "    cum_prob = cum_prob/cum_prob[-1]\n",
    "    \n",
    "    sample = np.random.uniform()\n",
    "    for i in range(cum_prob.shape[0]):\n",
    "        if cum_prob[i] > sample:\n",
    "            break\n",
    "        else:\n",
    "            continue\n",
    "    return i\n",
    "\n",
    "def distance_calc(rute,distance_matrix):\n",
    "    distance_count = []\n",
    "    for i in range(rute.shape[0]):\n",
    "        count = 0\n",
    "        for j in range(rute.shape[1]-1):\n",
    "            count += distance_matrix[int(rute[i,j])-1,int(rute[i,j+1])-1]\n",
    "        distance_count.append(count)\n",
    "    return np.array(distance_count)\n",
    "\n",
    "def pheromne_calc(pheromne,distance_cost,rute):\n",
    "    for i in range(rute.shape[0]):\n",
    "        dt = 1/distance_cost[i]\n",
    "        for j in range(rute.shape[1]-1):\n",
    "            pheromne[int(rute[i,j]-1),int(rute[i,j+1]-1)] += dt\n",
    "    return pheromne\n"
   ]
  },
  {
   "cell_type": "code",
   "execution_count": 32,
   "metadata": {},
   "outputs": [],
   "source": [
    "rute = np.ones((num_ant,num_point+1))\n",
    "pheromne = 0.1*np.ones((num_ant,num_point))\n",
    "cost_list = []\n",
    "for iteration in range(100):\n",
    "    rute[:,0] = 1\n",
    "\n",
    "    for i in range(num_ant):\n",
    "        city_left = np.arange(10)+1\n",
    "        city_left = city_left[city_left!=1]\n",
    "        temp_prob = prob_city.copy()\n",
    "        temp_prob[:,0] = 0\n",
    "        for j in range(num_point-1):\n",
    "            cum_prob = np.zeros(num_point)\n",
    "            temp_multi = np.zeros(num_point)\n",
    "\n",
    "            current = int(rute[i,j]-1)\n",
    "            \n",
    "            r_para = np.power(pheromne[current,:],beta)\n",
    "            s_para = np.power(temp_prob[current,:],alpha)\n",
    "\n",
    "            combine = np.multiply(r_para,s_para)\n",
    "\n",
    "            prob = combine/np.sum(combine)\n",
    "\n",
    "            next_city = roulette(prob)+1\n",
    "            rute[i,j+1] = next_city\n",
    "            \n",
    "            temp_prob[:,(next_city-1)] = 0\n",
    "    pheromne = (1-e)*pheromne\n",
    "    distance_cost = distance_calc(rute,distance)\n",
    "\n",
    "    min_distance_index = np.argmin(distance_cost)\n",
    "    min_distance_cost = distance_cost[min_distance_index]\n",
    "\n",
    "    best_route = rute[min_distance_index]\n",
    "\n",
    "    pheromne = pheromne_calc(pheromne,distance_cost,rute)\n",
    "    cost_list.append(np.sum(distance_cost))\n",
    "\n",
    "\n",
    "\n"
   ]
  },
  {
   "cell_type": "code",
   "execution_count": 13,
   "metadata": {},
   "outputs": [
    {
     "data": {
      "text/plain": [
       "array([ 1.,  6., 15.,  2., 19., 11.,  4., 16., 18.,  5., 20.,  3., 12.,\n",
       "        8., 14.,  9., 13., 10., 17.,  7.,  1.])"
      ]
     },
     "execution_count": 13,
     "metadata": {},
     "output_type": "execute_result"
    }
   ],
   "source": [
    "best_route"
   ]
  },
  {
   "cell_type": "code",
   "execution_count": 33,
   "metadata": {},
   "outputs": [
    {
     "data": {
      "image/png": "[encoded data removed]",
      "text/plain": [
       "<Figure size 432x288 with 1 Axes>"
      ]
     },
     "metadata": {
      "needs_background": "light"
     },
     "output_type": "display_data"
    }
   ],
   "source": [
    "for i in range(len(best_route)-1):\n",
    "    x1 = int(best_route[i])-1\n",
    "    x2 = int(best_route[i+1])-1\n",
    "    plt.plot([cor_point[x1,0],cor_point[x2,0]],[cor_point[x1,1],cor_point[x2,1]])"
   ]
  },
  {
   "cell_type": "code",
   "execution_count": 15,
   "metadata": {},
   "outputs": [
    {
     "data": {
      "text/plain": [
       "[<matplotlib.lines.Line2D at 0x7f1598f47730>]"
      ]
     },
     "execution_count": 15,
     "metadata": {},
     "output_type": "execute_result"
    },
    {
     "data": {
      "image/png": "[encoded data removed]",
      "text/plain": [
       "<Figure size 432x288 with 1 Axes>"
      ]
     },
     "metadata": {
      "needs_background": "light"
     },
     "output_type": "display_data"
    }
   ],
   "source": [
    "\n",
    "plt.plot(cost_list)"
   ]
  },
  {
   "cell_type": "code",
   "execution_count": 16,
   "metadata": {},
   "outputs": [],
   "source": [
    "def fitness_calc(rute, distance_matrix):\n",
    "    distance = distance_calc(rute,distance_matrix)\n",
    "    return 1/distance\n",
    "        "
   ]
  },
  {
   "cell_type": "code",
   "execution_count": 18,
   "metadata": {},
   "outputs": [
    {
     "data": {
      "text/plain": [
       "array([[ 1., 10.,  8.,  7.,  9.,  2.,  3.,  6.,  5.,  4.,  1.],\n",
       "       [ 1.,  5.,  9.,  3.,  8.,  4.,  2.,  6.,  7., 10.,  1.],\n",
       "       [ 1.,  2.,  9.,  3.,  6.,  5.,  4.,  8.,  7., 10.,  1.],\n",
       "       [ 1.,  4.,  2.,  8.,  6.,  3.,  7., 10.,  5.,  9.,  1.],\n",
       "       [ 1., 10.,  6.,  4.,  8.,  5.,  2.,  3.,  7.,  9.,  1.],\n",
       "       [ 1., 10.,  6.,  4.,  8.,  7.,  9.,  2.,  3.,  5.,  1.],\n",
       "       [ 1.,  3.,  7.,  4., 10.,  5.,  9.,  8.,  6.,  2.,  1.],\n",
       "       [ 1.,  2.,  4.,  8.,  9.,  3.,  7., 10.,  6.,  5.,  1.],\n",
       "       [ 1.,  2.,  9.,  3.,  6., 10.,  4.,  8.,  5.,  7.,  1.],\n",
       "       [ 1., 10.,  6.,  4.,  8.,  3.,  5.,  2.,  7.,  9.,  1.]])"
      ]
     },
     "execution_count": 18,
     "metadata": {},
     "output_type": "execute_result"
    }
   ],
   "source": [
    "num_pop = 10\n",
    "num_point = 10\n",
    "\n",
    "rute = np.ones((num_pop,num_point+1))\n",
    "for i in range(num_pop):\n",
    "    temp_rute = np.arange(num_point)+1\n",
    "    temp_rute = temp_rute[temp_rute != 1]\n",
    "    np.random.shuffle(temp_rute)\n",
    "    rute[i,1:-1] = temp_rute\n",
    "\n",
    "\n",
    "fitness_matrix = fitness_calc(rute,distance)\n",
    "def pop_selection(rute,fitness_matrix):\n",
    "    double_gem_array = np.zeros((2,rute.shape[0],rute.shape[1]))\n",
    "    for i in range(2):\n",
    "        gem_list = []\n",
    "        for j in range(rute.shape[0]):\n",
    "            gem_list.append(roulette(fitness_matrix))\n",
    "        double_gem_array[i,:,:] = rute[np.array(gem_list)]\n",
    "    return double_gem_array\n",
    "new_rute = pop_selection(rute,fitness_matrix)\n",
    "\n",
    "\n",
    "\n",
    "def mate_progenitors(gem_a, gem_b):\n",
    "    offspring = gem_a[0:5]\n",
    "\n",
    "    for city in gem_b:\n",
    "\n",
    "        if not city in offspring:\n",
    "            offspring = np.concatenate((offspring,[city]))\n",
    "\n",
    "    return offspring\n",
    "\n",
    "def mate_population(progenitor_list):\n",
    "    new_population_set = []\n",
    "    for i in range(progenitor_list.shape[1]):\n",
    "        prog_a, prog_b = progenitor_list[0,i,0:-1], progenitor_list[1,i,0:-1]\n",
    "        offspring = mate_progenitors(prog_a, prog_b)\n",
    "        new_population_set.append(offspring)\n",
    "        new_temp = np.array(new_population_set)\n",
    "    return np.hstack((new_temp, np.ones((new_temp.shape[0], 1))))\n",
    "\n",
    "new_population_set = mate_population(new_rute)\n",
    "new_population_set\n",
    "\n",
    "\n"
   ]
  },
  {
   "cell_type": "code",
   "execution_count": 22,
   "metadata": {},
   "outputs": [],
   "source": [
    "def mutate_offspring(offspring):\n",
    "    for q in range(int(8*0.3)):\n",
    "        a = np.random.randint(0,8)\n",
    "        b = np.random.randint(0,8)\n",
    "\n",
    "        offspring[a], offspring[b] = offspring[b], offspring[a]\n",
    "\n",
    "    return offspring\n",
    "    \n",
    "    \n",
    "def mutate_population(new_population_set):\n",
    "    mutated_pop = np.ones((10,11))\n",
    "    for i in range(new_population_set.shape[0]):\n",
    "        mutated_pop[i,1:-1] = mutate_offspring(new_population_set[i,1:-1])\n",
    "\n",
    "    return mutated_pop\n",
    "\n",
    "mutated_pop = mutate_population(new_population_set)\n"
   ]
  },
  {
   "cell_type": "code",
   "execution_count": 25,
   "metadata": {},
   "outputs": [],
   "source": [
    "num_pop = 10\n",
    "num_point = 10\n",
    "cost_list = []\n",
    "rute = np.ones((num_pop,num_point+1))\n",
    "for i in range(num_pop):\n",
    "    temp_rute = np.arange(num_point)+1\n",
    "    temp_rute = temp_rute[temp_rute != 1]\n",
    "    np.random.shuffle(temp_rute)\n",
    "    rute[i,1:-1] = temp_rute\n",
    "\n",
    "fitness_matrix = fitness_calc(rute,distance)\n",
    "\n",
    "for i in range(100000):\n",
    "    rute = pop_selection(rute,fitness_matrix)\n",
    "    new_population_set = mate_population(rute)\n",
    "    rute = mutate_population(new_population_set)\n",
    "\n",
    "    fitness_matrix = fitness_calc(rute,distance)\n",
    "    distance_cost = distance_calc(rute,distance)\n",
    "\n",
    "    min_distance_index = np.argmin(distance_cost)\n",
    "    min_distance_cost = distance_cost[min_distance_index]\n",
    "\n",
    "    best_route = rute[min_distance_index]\n",
    "    cost_list.append(np.sum(distance_cost))\n",
    "    "
   ]
  },
  {
   "cell_type": "code",
   "execution_count": 26,
   "metadata": {},
   "outputs": [
    {
     "data": {
      "image/png": "[encoded data removed]",
      "text/plain": [
       "<Figure size 432x288 with 1 Axes>"
      ]
     },
     "metadata": {
      "needs_background": "light"
     },
     "output_type": "display_data"
    }
   ],
   "source": [
    "for i in range(len(best_route)-1):\n",
    "    x1 = int(best_route[i])-1\n",
    "    x2 = int(best_route[i+1])-1\n",
    "    plt.plot([cor_point[x1,0],cor_point[x2,0]],[cor_point[x1,1],cor_point[x2,1]])"
   ]
  },
  {
   "cell_type": "code",
   "execution_count": 27,
   "metadata": {},
   "outputs": [
    {
     "data": {
      "text/plain": [
       "[<matplotlib.lines.Line2D at 0x7f1598d64d90>]"
      ]
     },
     "execution_count": 27,
     "metadata": {},
     "output_type": "execute_result"
    },
    {
     "data": {
      "image/png": "[encoded data removed]",
      "text/plain": [
       "<Figure size 432x288 with 1 Axes>"
      ]
     },
     "metadata": {
      "needs_background": "light"
     },
     "output_type": "display_data"
    }
   ],
   "source": [
    "plt.plot(cost_list)"
   ]
  }
 ],
 "metadata": {
  "interpreter": {
   "hash": "4a2d9e8177d84f6b94430c36112207154d62cc11b625027e7ed3456a11603b8b"
  },
  "kernelspec": {
   "display_name": "Python 3.8.10 ('dpl')",
   "language": "python",
   "name": "python3"
  },
  "language_info": {
   "codemirror_mode": {
    "name": "ipython",
    "version": 3
   },
   "file_extension": ".py",
   "mimetype": "text/x-python",
   "name": "python",
   "nbconvert_exporter": "python",
   "pygments_lexer": "ipython3",
   "version": "3.8.10"
  },
  "orig_nbformat": 4
 },
 "nbformat": 4,
 "nbformat_minor": 2
}
